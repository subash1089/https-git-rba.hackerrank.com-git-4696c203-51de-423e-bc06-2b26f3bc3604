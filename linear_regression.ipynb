{
 "cells": [
  {
   "cell_type": "markdown",
   "metadata": {},
   "source": [
    "#### In this challenge you have to buiild a linear regression model using scikit learn package\n",
    "- Follow the instructions provided for each cell and code accordingly\n",
    "- To run each cell select the cell and press \"Shift + enter\"\n",
    "- The necessary packages has been imported for you"
   ]
  },
  {
   "cell_type": "code",
   "execution_count": 2,
   "metadata": {
    "colab": {
     "autoexec": {
      "startup": false,
      "wait_interval": 0
     }
    },
    "colab_type": "code",
    "id": "GhNVQ7DLJ4O1"
   },
   "outputs": [],
   "source": [
    "import pandas as pd\n",
    "import numpy as np\n",
    "from sklearn.linear_model import LinearRegression\n",
    "from sklearn.model_selection import train_test_split"
   ]
  },
  {
   "cell_type": "markdown",
   "metadata": {
    "colab_type": "text",
    "id": "KJoRAVbc_X1e"
   },
   "source": [
    "### About the dataset\n",
    "- The dataset is provided in the file **tipdata.csv**\n",
    "- The first few rows of the dataset looks as shown below\n",
    "<img src = \"initial_df.png\">\n",
    "\n",
    "### Attributes:  \n",
    "- 'size' - refers to the table size(number of seats per table)  \n",
    "-  rest of the variables are self explanatory  \n",
    "### Target variable:  \n",
    "- tip: tips in dollers provided by the customer. Convert categorcal variable sex and smoker to   binary values i.e male as 0, female as 1 nonsmoker as 0 and smoker as 1    \n",
    "\n",
    " \n"
   ]
  },
  {
   "cell_type": "markdown",
   "metadata": {},
   "source": [
    "Define a function create_df()\n",
    "   - parameters: file_name\n",
    "   - returns: pandas dataframe\n",
    "The function has to:\n",
    "- read the file and convert it into pandas dataframe\n",
    "- convert categorcal variable sex and smoker to binary values i.e male as 0, female as 1, nonsmoker as 0 and smoker as 1\n",
    "- Perform one hot encoding for day and time variables (hint: use pandas get_dummies() method)   "
   ]
  },
  {
   "cell_type": "code",
   "execution_count": null,
   "metadata": {},
   "outputs": [],
   "source": [
    "def create_df(file_name):\n",
    "    ###Start code here\n",
    "    \n",
    "    "
   ]
  },
  {
   "cell_type": "markdown",
   "metadata": {},
   "source": [
    "- The below cell creates the dataframe using the method you define above  \n",
    "Expexted output when you run the below cell:\n",
    "    <img src = \"df.png\">"
   ]
  },
  {
   "cell_type": "code",
   "execution_count": null,
   "metadata": {
    "colab": {
     "autoexec": {
      "startup": false,
      "wait_interval": 0
     }
    },
    "colab_type": "code",
    "id": "u3ZAmAx3KTHu"
   },
   "outputs": [],
   "source": [
    "df = create_df(\"tipdata.csv\")\n",
    "df.head()"
   ]
  },
  {
   "cell_type": "markdown",
   "metadata": {},
   "source": [
    "- Extraxt feature values ('total_bill','sex',\"smoker\",\"size\",\"Sat\", \"Sun\", \"Thur\", \"Lunch\") into variable **X**\n",
    "- Extraxt target values ('tip') into variable **Y**"
   ]
  },
  {
   "cell_type": "code",
   "execution_count": null,
   "metadata": {
    "colab": {
     "autoexec": {
      "startup": false,
      "wait_interval": 0
     }
    },
    "colab_type": "code",
    "id": "x3bMnPjsjXUo"
   },
   "outputs": [],
   "source": [
    "###Start code here\n",
    "X = \n",
    "Y = \n",
    "###End code"
   ]
  },
  {
   "cell_type": "markdown",
   "metadata": {},
   "source": [
    "- using **sklearn.model_selection.train_test_split** split the X and Y into train and test set such that 75 percent of the data allocated to training set.  \n",
    "- **Set the random state as 25**"
   ]
  },
  {
   "cell_type": "code",
   "execution_count": null,
   "metadata": {
    "colab": {
     "autoexec": {
      "startup": false,
      "wait_interval": 0
     }
    },
    "colab_type": "code",
    "id": "qJ6MaVfmiv4P"
   },
   "outputs": [],
   "source": [
    "###Start code here\n",
    "X_train, X_test , y_train , y_test = \n",
    "###End code"
   ]
  },
  {
   "cell_type": "markdown",
   "metadata": {},
   "source": [
    "define a method train_model()\n",
    "   - parameters\n",
    "     - X: array of input features\n",
    "     - Y: array of target values\n",
    "  - return : sklearn linearRegression model\n",
    "Use scikit learn's linearRegression to train the model with input X and Y "
   ]
  },
  {
   "cell_type": "code",
   "execution_count": null,
   "metadata": {
    "colab": {
     "autoexec": {
      "startup": false,
      "wait_interval": 0
     },
     "base_uri": "https://localhost:8080/",
     "height": 52
    },
    "colab_type": "code",
    "executionInfo": {
     "elapsed": 1315,
     "status": "ok",
     "timestamp": 1524475917926,
     "user": {
      "displayName": "shreyas r bhat",
      "photoUrl": "https://lh3.googleusercontent.com/a/default-user=s128",
      "userId": "100759561434017988779"
     },
     "user_tz": -330
    },
    "id": "9vJZWVFXjRQ_",
    "outputId": "b1fef9d8-7b59-4fab-cc99-867a3a9d43ef"
   },
   "outputs": [],
   "source": [
    "def train_model(X, y):\n",
    "  ####Start code here  "
   ]
  },
  {
   "cell_type": "markdown",
   "metadata": {},
   "source": [
    "- The code in the below cell returns the predicted tip values using all the available features\n",
    "- The expected output when you run the below cell: \n",
    " [2.73149571 3.18465921 3.52553842 5.42292079 2.34495412 2.32864233\n",
    "  3.73142509 3.45167833 3.21491008 3.47580459]"
   ]
  },
  {
   "cell_type": "code",
   "execution_count": null,
   "metadata": {},
   "outputs": [],
   "source": [
    "model = train_model(X_train, y_train)\n",
    "pred = model.predict(X_test)\n",
    "print(pred[0:10])"
   ]
  },
  {
   "cell_type": "markdown",
   "metadata": {},
   "source": [
    "Define a method rmse()\n",
    " - parameters:\n",
    "  - actual - array of actual values\n",
    "  - pred - array of predicted values\n",
    "The function has to calculate root mean square error between actual abd predicted values  \n",
    "Formula to compute RMSE: $\\sqrt{\\frac{\\sum_{i = 0}^{i = n}(actual_i - pred_i)^2}{n}}$"
   ]
  },
  {
   "cell_type": "code",
   "execution_count": null,
   "metadata": {
    "colab": {
     "autoexec": {
      "startup": false,
      "wait_interval": 0
     }
    },
    "colab_type": "code",
    "id": "xyVbOqVhq66P"
   },
   "outputs": [],
   "source": [
    "def rmse(actual, pred):\n",
    "    ###Start code here"
   ]
  },
  {
   "cell_type": "markdown",
   "metadata": {},
   "source": [
    "The below cell calculates the rmse value between the actual and predicted target data using the function you defined above\n",
    "The expected output when you run the below cell: RMSE:  1.07389"
   ]
  },
  {
   "cell_type": "code",
   "execution_count": null,
   "metadata": {
    "colab": {
     "autoexec": {
      "startup": false,
      "wait_interval": 0
     },
     "base_uri": "https://localhost:8080/",
     "height": 34
    },
    "colab_type": "code",
    "executionInfo": {
     "elapsed": 1033,
     "status": "ok",
     "timestamp": 1524475921268,
     "user": {
      "displayName": "shreyas r bhat",
      "photoUrl": "https://lh3.googleusercontent.com/a/default-user=s128",
      "userId": "100759561434017988779"
     },
     "user_tz": -330
    },
    "id": "wFE3zXwfAk1A",
    "outputId": "ce606811-c3ec-4b69-a0dc-c398d1b04b67"
   },
   "outputs": [],
   "source": [
    "error = rmse(y_test, pred)\n",
    "print(\"RMSE: \", error)"
   ]
  }
 ],
 "metadata": {
  "colab": {
   "collapsed_sections": [],
   "default_view": {},
   "name": "tip.ipynb",
   "provenance": [],
   "version": "0.3.2",
   "views": {}
  },
  "kernelspec": {
   "display_name": "Python 3",
   "language": "python",
   "name": "python3"
  },
  "language_info": {
   "codemirror_mode": {
    "name": "ipython",
    "version": 3
   },
   "file_extension": ".py",
   "mimetype": "text/x-python",
   "name": "python",
   "nbconvert_exporter": "python",
   "pygments_lexer": "ipython3",
   "version": "3.6.4"
  }
 },
 "nbformat": 4,
 "nbformat_minor": 1
}
